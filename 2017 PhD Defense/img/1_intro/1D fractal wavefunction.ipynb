{
 "cells": [
  {
   "cell_type": "code",
   "execution_count": 1,
   "metadata": {},
   "outputs": [],
   "source": [
    "import sys\n",
    "sys.path.insert(0, '../../../../gaps_topology/Tilings') # prepend the path to the Tilings package\n",
    "import Tilings as tl\n",
    "import AB_envs as envs\n",
    "import networkx as nx\n",
    "\n",
    "import numpy as np\n",
    "import matplotlib as mpl\n",
    "import matplotlib.pyplot as plt\n",
    "import re\n",
    "# replace inline by %matplotlib notebook for full interactivity (but beware of the flickering!)\n",
    "%matplotlib inline\n",
    "\n",
    "\"\"\"\n",
    "Styling\n",
    "See: http://matplotlib.org/users/customizing.html\n",
    "\n",
    "TeX rendering:\n",
    "You can use TeX to render all of your matplotlib text if the rc\n",
    "parameter text.usetex is set.  This works currently on the agg and ps\n",
    "backends, and requires that you have tex and the other dependencies\n",
    "described at http://matplotlib.org/users/usetex.html\n",
    "properly installed on your system.  The first time you run a script\n",
    "you will see a lot of output from tex and associated tools.  The next\n",
    "time, the run may be silent, as a lot of the information is cached in\n",
    "~/.tex.cache\n",
    "\"\"\"\n",
    "from matplotlib import rc\n",
    "rc('font',**{'family':'sans-serif','sans-serif':['Computer Modern'], 'size':16})\n",
    "## for Palatino and other serif fonts use:\n",
    "#rc('font',**{'family':'serif','serif':['Palatino']})\n",
    "rc('text', usetex=True)\n",
    "# colors\n",
    "BostonBlue = np.array([0., 104., 139.])/255\n",
    "comp = np.array([200., 35., 0.])/255\n",
    "BroccoliGreen = np.array([60., 196., 50.])/255\n",
    "# linewidth of plots\n",
    "rc('lines', lw = 2)\n",
    "# fontsize of the labels\n",
    "rc('axes', labelsize = 16)\n",
    "# bbox='tight' tries to make the bounding box fit the plot area\n",
    "# pad_inches is the distance between the bounding box and the plot area\n",
    "# see http://matplotlib.org/users/tight_layout_guide.html\n",
    "rc('savefig', bbox = 'tight', pad_inches = .1)"
   ]
  },
  {
   "cell_type": "code",
   "execution_count": 2,
   "metadata": {
    "collapsed": true
   },
   "outputs": [],
   "source": [
    "def fibo(n):\n",
    "    \"\"\" compute the nth Fibonacci number \"\"\"\n",
    "    a, b = 0, 1\n",
    "    for i in range(n):\n",
    "        a, b = b, a + b\n",
    "    return a\n",
    "\n",
    "class FiboWord():\n",
    "    def __init__(self):\n",
    "        # the number of inflations\n",
    "        self._n = 0\n",
    "        # the current Fibonacci word\n",
    "        self._word = \"B\"\n",
    "        \n",
    "    def inflate(self):\n",
    "        # split word in letters\n",
    "        letters = list(self._word)\n",
    "        # perform the substitution\n",
    "        letters = [\"AB\" if l==\"A\" else \"A\" for l in letters]\n",
    "        # concatenate the letters to obtain the inflated word\n",
    "        self._word = ''.join(letters)\n",
    "        \n",
    "    def chain(self, n):\n",
    "        \"\"\"\n",
    "        Return the chain after n inflations\n",
    "        \"\"\"\n",
    "        for i in range(n):\n",
    "            self.inflate()\n",
    "            self._n += 1\n",
    "        return list(self._word)\n",
    "    \n",
    "    def _to_arrow(self, subword):\n",
    "        \"\"\"\n",
    "        Replace the 2 letters subword by the corresponding arrow\n",
    "        \"\"\"\n",
    "        arrow = 0\n",
    "        if subword == \"AB\":\n",
    "            arrow = 1\n",
    "        elif subword == \"BA\":\n",
    "            arrow = -1\n",
    "        return arrow\n",
    "    \n",
    "    def arrows(self):\n",
    "        if len(self._word) % 2 != 0:\n",
    "            print(\"Odd number of letters in the word. Dropping the last letter.\")\n",
    "        return [self._to_arrow(w) for w in re.findall('..', self._word)]\n",
    "\n",
    "    def heights(self):\n",
    "        arrows = self.arrows()\n",
    "        return np.array([np.sum(arrows[:m]) for m in range(len(arrows))])"
   ]
  },
  {
   "cell_type": "code",
   "execution_count": 19,
   "metadata": {
    "collapsed": true
   },
   "outputs": [],
   "source": [
    "tl = FiboWord()\n",
    "chain = tl.chain(20)\n",
    "h = tl.heights()"
   ]
  },
  {
   "cell_type": "code",
   "execution_count": 20,
   "metadata": {},
   "outputs": [
    {
     "data": {
      "image/png": "[encoded data removed]",
      "text/plain": [
       "<matplotlib.figure.Figure at 0x7f3af532d518>"
      ]
     },
     "metadata": {},
     "output_type": "display_data"
    }
   ],
   "source": [
    "# figure configuration\n",
    "fig, ax = plt.subplots(1,1)\n",
    "\n",
    "rho = 0.5\n",
    "ys = rho**h\n",
    "ys /= np.sum(ys)\n",
    "xs = np.linspace(0, len(ys), len(ys))\n",
    "\n",
    "ax.plot(xs, ys, '.', ms=0)\n",
    "ground = np.zeros(len(h))\n",
    "ax.fill_between(xs, ys, where=ys>=ground, interpolate=False, color=BostonBlue)\n",
    "ax.set_xlabel(r\"$m$\")\n",
    "ax.set_ylabel(r\"$P(m) = |\\psi(m)|^2$\")\n",
    "plt.savefig(\"../2_part1/state_fibo.pdf\")"
   ]
  },
  {
   "cell_type": "code",
   "execution_count": 17,
   "metadata": {},
   "outputs": [
    {
     "data": {
      "image/png": "[encoded data removed]",
      "text/plain": [
       "<matplotlib.figure.Figure at 0x7f3af5fc6dd8>"
      ]
     },
     "metadata": {},
     "output_type": "display_data"
    }
   ],
   "source": [
    "# figure configuration\n",
    "fig, ax = plt.subplots(1,1)\n",
    "\n",
    "rho = 0.5\n",
    "ys = h\n",
    "xs = np.linspace(0, len(ys), len(ys))\n",
    "\n",
    "ax.plot(xs, ys, '-', lw=0.5, c=BostonBlue)\n",
    "ground = np.zeros(len(h))\n",
    "#ax.fill_between(xs, ys, where=ys>=ground, interpolate=False, color=BostonBlue)\n",
    "ax.set_xlabel(r\"$m$\")\n",
    "ax.set_ylabel(r\"$h(m)$\")\n",
    "plt.savefig(\"../2_part1/heights_fibo.pdf\")"
   ]
  },
  {
   "cell_type": "code",
   "execution_count": null,
   "metadata": {
    "collapsed": true
   },
   "outputs": [],
   "source": []
  }
 ],
 "metadata": {
  "kernelspec": {
   "display_name": "Python 3",
   "language": "python",
   "name": "python3"
  },
  "language_info": {
   "codemirror_mode": {
    "name": "ipython",
    "version": 3
   },
   "file_extension": ".py",
   "mimetype": "text/x-python",
   "name": "python",
   "nbconvert_exporter": "python",
   "pygments_lexer": "ipython3",
   "version": "3.6.2"
  }
 },
 "nbformat": 4,
 "nbformat_minor": 2
}
