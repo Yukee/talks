{
 "cells": [
  {
   "cell_type": "code",
   "execution_count": 12,
   "metadata": {
    "collapsed": true
   },
   "outputs": [],
   "source": [
    "import numpy as np\n",
    "import matplotlib as mpl\n",
    "import matplotlib.pyplot as plt\n",
    "import re\n",
    "# replace inline by %matplotlib notebook for full interactivity (but beware of the flickering!)\n",
    "%matplotlib inline\n",
    "\n",
    "\"\"\"\n",
    "Styling\n",
    "See: http://matplotlib.org/users/customizing.html\n",
    "\n",
    "TeX rendering:\n",
    "You can use TeX to render all of your matplotlib text if the rc\n",
    "parameter text.usetex is set.  This works currently on the agg and ps\n",
    "backends, and requires that you have tex and the other dependencies\n",
    "described at http://matplotlib.org/users/usetex.html\n",
    "properly installed on your system.  The first time you run a script\n",
    "you will see a lot of output from tex and associated tools.  The next\n",
    "time, the run may be silent, as a lot of the information is cached in\n",
    "~/.tex.cache\n",
    "\"\"\"\n",
    "from matplotlib import rc\n",
    "rc('font',**{'family':'sans-serif','sans-serif':['Computer Modern'], 'size':16})\n",
    "## for Palatino and other serif fonts use:\n",
    "#rc('font',**{'family':'serif','serif':['Palatino']})\n",
    "rc('text', usetex=True)\n",
    "# colors\n",
    "BostonBlue = np.array([0., 104., 139.])/255\n",
    "comp = np.array([200., 35., 0.])/255\n",
    "BroccoliGreen = np.array([60., 196., 50.])/255\n",
    "# linewidth of plots\n",
    "rc('lines', lw = 2)\n",
    "# fontsize of the labels\n",
    "rc('axes', labelsize = 20)\n",
    "# bbox='tight' tries to make the bounding box fit the plot area\n",
    "# pad_inches is the distance between the bounding box and the plot area\n",
    "# see http://matplotlib.org/users/tight_layout_guide.html\n",
    "rc('savefig', bbox = 'tight', pad_inches = .1)"
   ]
  },
  {
   "cell_type": "code",
   "execution_count": 13,
   "metadata": {},
   "outputs": [
    {
     "data": {
      "image/png": "[encoded data removed]",
      "text/plain": [
       "<matplotlib.figure.Figure at 0x7feea4edf128>"
      ]
     },
     "metadata": {},
     "output_type": "display_data"
    }
   ],
   "source": [
    "def om(bet):\n",
    "    return np.arcsinh(1+np.cosh(bet))/np.log(2.+np.sqrt(5))\n",
    "\n",
    "rho = 0.5\n",
    "kappa = np.log(rho)\n",
    "\n",
    "def d(q):\n",
    "    return (q*om(2*kappa) - om(2*q*kappa))/(q-1.)\n",
    "d = np.vectorize(d)\n",
    "\n",
    "# figure configuration\n",
    "fig, ax = plt.subplots(1,1)\n",
    "\n",
    "N = 100\n",
    "qs = np.linspace(0, 10, N)\n",
    "\n",
    "ax.plot(qs, d(qs), '-', lw=1., c='black')\n",
    "#ax.fill_between(xs, ys, where=ys>=ground, interpolate=False, color=BostonBlue)\n",
    "ax.set_xlabel(r\"$q$\")\n",
    "ax.set_ylabel(r\"$d_q$\")\n",
    "plt.savefig(\"../2_part1/dims_fibo.pdf\")"
   ]
  },
  {
   "cell_type": "code",
   "execution_count": 22,
   "metadata": {},
   "outputs": [
    {
     "data": {
      "image/png": "[encoded data removed]",
      "text/plain": [
       "<matplotlib.figure.Figure at 0x7f677f3f1f28>"
      ]
     },
     "metadata": {},
     "output_type": "display_data"
    }
   ],
   "source": [
    "\"\"\"\n",
    "Fractal dimensions: leading and next-to-leading order expressions\n",
    "\"\"\"\n",
    "rho = 0.1\n",
    "kappa = np.log(rho)\n",
    "\n",
    "def d(q):\n",
    "    return (q*om(2*kappa) - om(2*q*kappa))/(q-1.)\n",
    "d = np.vectorize(d)\n",
    "\n",
    "def d0(q):\n",
    "    \"\"\"\n",
    "    Leading order\n",
    "    \"\"\"\n",
    "    d = 0.\n",
    "    if q==0:\n",
    "        d = 1.\n",
    "    return d\n",
    "d0 = np.vectorize(d0)\n",
    "\n",
    "# figure configuration\n",
    "fig, ax = plt.subplots(1,1)\n",
    "\n",
    "N = 100\n",
    "qs = np.linspace(0, 4, N)\n",
    "\n",
    "ax.plot(qs, d0(qs), '-', lw=2., c='black')\n",
    "ax.plot(qs, d(qs), '--', lw=2., c='black')\n",
    "#ax.fill_between(xs, ys, where=ys>=ground, interpolate=False, color=BostonBlue)\n",
    "ax.set_xlabel(r\"$q$\")\n",
    "ax.set_ylabel(r\"$d_q$\")\n",
    "ax.legend((\"leading order\",\"higher order\"))\n",
    "plt.savefig(\"../3_part2/fractal_dims_broccoli.pdf\")"
   ]
  },
  {
   "cell_type": "code",
   "execution_count": 11,
   "metadata": {},
   "outputs": [
    {
     "data": {
      "text/plain": [
       "0.73738492367847419"
      ]
     },
     "execution_count": 11,
     "metadata": {},
     "output_type": "execute_result"
    }
   ],
   "source": [
    "\n",
    "0.5*np.log(2)/np.log(1.6)"
   ]
  },
  {
   "cell_type": "code",
   "execution_count": null,
   "metadata": {
    "collapsed": true
   },
   "outputs": [],
   "source": []
  }
 ],
 "metadata": {
  "kernelspec": {
   "display_name": "Python 3",
   "language": "python",
   "name": "python3"
  },
  "language_info": {
   "codemirror_mode": {
    "name": "ipython",
    "version": 3
   },
   "file_extension": ".py",
   "mimetype": "text/x-python",
   "name": "python",
   "nbconvert_exporter": "python",
   "pygments_lexer": "ipython3",
   "version": "3.6.2"
  }
 },
 "nbformat": 4,
 "nbformat_minor": 2
}
