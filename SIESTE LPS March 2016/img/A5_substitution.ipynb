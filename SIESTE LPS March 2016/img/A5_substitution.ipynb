{
 "cells": [
  {
   "cell_type": "code",
   "execution_count": 1,
   "metadata": {
    "collapsed": true
   },
   "outputs": [],
   "source": [
    "import cairo\n",
    "import math, cmath\n",
    "import networkx as nx # graph tools\n",
    "import matplotlib.pyplot as plt\n",
    "\n",
    "%matplotlib inline"
   ]
  },
  {
   "cell_type": "markdown",
   "metadata": {},
   "source": [
    "## Amann-Beenker A5\n",
    "TODO: write the documentation\n",
    "\n",
    "### The substitution rules\n",
    "\n",
    "The two tiles of the A5 are a square and a lozenge (rhombus). \n",
    "Here we shall work with the lozenge and two half squares:\n",
    "<img src=\"http://localhost:8888/notebooks/Ammann-Beenker/A5_tiles.png\">\n",
    "where the arrows implement the matching rules, and also serve distinguishing between the two half-squares.\n",
    "\n",
    "The substitution rules are as follows:\n",
    "<img src=\"http://localhost:8888/notebooks/Ammann-Beenker/A5_substitution.png\">\n",
    "\n",
    "We can explicitely compute the new points in terms of the old ones (see the subdivide function below).\n",
    "The irrational involved here is the silver ratio $\\lambda = 1 + \\sqrt{2}$. The inflation factor is $\\lambda^2$."
   ]
  },
  {
   "cell_type": "code",
   "execution_count": 2,
   "metadata": {
    "collapsed": false
   },
   "outputs": [],
   "source": [
    "sq2 = math.sqrt(2)\n",
    "lb = sq2 - 1.\n",
    "\n",
    "def subdivide(shapes):\n",
    "    result = []\n",
    "    for color, vertices in shapes:\n",
    "        if color == 0:\n",
    "            \n",
    "            A, B, C, D = vertices\n",
    "            \n",
    "            P = A + (B - A)*lb\n",
    "            Pp = C + (B - C)*lb\n",
    "            Q = A + (D - A)*lb\n",
    "            Qp = C + (D - C)*lb\n",
    "            R = B + (Q + D - 2*B)*lb/sq2\n",
    "            Rp = B + (Qp + D - 2*B)*lb/sq2\n",
    "            \n",
    "            lozUp = (0, (A, P, R, Q))\n",
    "            lozDown = (0, (Rp, Pp, C, Qp))\n",
    "            lozMid = (0, (D, R, B, Rp))\n",
    "            sqUR = (1, (R, D, Q))\n",
    "            sqUL = (1, (R, B, P))\n",
    "            sqDL = (1, (Rp, B, Pp))\n",
    "            sqDR = (1, (Rp, D, Qp))\n",
    "            \n",
    "            result += [lozUp, lozDown, lozMid, sqUL, sqUR, sqDL, sqDR]\n",
    "        else:\n",
    "            \n",
    "            A, B, C = vertices\n",
    "            \n",
    "            P = B + (A - B)*lb\n",
    "            Q = B + (C - B)*lb/sq2\n",
    "            R = C + (B - C)*lb/sq2\n",
    "            S = A + (C - A)*lb\n",
    "            T = P + Q - B\n",
    "            \n",
    "            sqU = (1, (T, A, P))\n",
    "            sqDL = (1, (T, R, Q))\n",
    "            sqDR = (1, (R, C, S))\n",
    "            lozU = (0, (A, T, R, S))\n",
    "            lozD = (0, (T, P, B, Q))\n",
    "            \n",
    "            result += [lozU, lozD, sqU, sqDL, sqDR]\n",
    "    return result"
   ]
  },
  {
   "cell_type": "code",
   "execution_count": 3,
   "metadata": {
    "collapsed": true
   },
   "outputs": [],
   "source": [
    "lightred = (0.697, 0.425, 0.333)\n",
    "lightblue = (0.333, 0.605, 0.697)\n",
    "blue = (0., 0.4078, 0.5451)\n",
    "red = (0.5451, 0.1373, 0.)\n",
    "\n",
    "def draw(shapes):\n",
    "    # Draw lozenges\n",
    "    for color, vertices in shapes:\n",
    "        if color == 0:\n",
    "            A, B, C, D = vertices\n",
    "            cr.move_to(A.real, A.imag)\n",
    "            cr.line_to(B.real, B.imag)\n",
    "            cr.line_to(D.real, D.imag)\n",
    "            cr.move_to(C.real, C.imag)\n",
    "            cr.line_to(B.real, B.imag)\n",
    "            cr.line_to(D.real, D.imag)\n",
    "            cr.close_path()\n",
    "    cr.set_source_rgb(0.697, 0.425, 0.333)\n",
    "    cr.fill()    \n",
    "\n",
    "    # Draw half-squares\n",
    "    for color, vertices in shapes:\n",
    "        if color == 1:\n",
    "            A, B , C = vertices\n",
    "            cr.move_to(A.real, A.imag)\n",
    "            cr.line_to(B.real, B.imag)\n",
    "            cr.line_to(C.real, C.imag)\n",
    "            cr.close_path()\n",
    "    cr.set_source_rgb(0., 0.4078, 0.5451)\n",
    "    cr.fill()\n",
    "\n",
    "    # Determine line width from size of first triangle\n",
    "    color, vertices = shapes[0]\n",
    "    cr.set_line_width(abs(vertices[1] - vertices[0]) / 10.0)\n",
    "    cr.set_line_join(cairo.LINE_JOIN_ROUND)\n",
    "\n",
    "    # Draw outlines\n",
    "    for color, vertices in shapes:\n",
    "        if color == 0:\n",
    "            A, B, C, D = vertices\n",
    "            cr.move_to(A.real, A.imag)\n",
    "            cr.line_to(B.real, B.imag)\n",
    "            cr.line_to(C.real, C.imag)\n",
    "            cr.line_to(D.real, D.imag)\n",
    "            cr.close_path()\n",
    "            #cr.line_to(D.real, D.imag)\n",
    "        else:\n",
    "            A, B, C = vertices\n",
    "            cr.move_to(C.real, C.imag)\n",
    "            cr.line_to(A.real, A.imag)\n",
    "            cr.line_to(B.real, B.imag)\n",
    "        \n",
    "    # set bg color\n",
    "    cr.set_source_rgb(0.2, 0.2, 0.2)\n",
    "    # commit to surface\n",
    "    cr.stroke()"
   ]
  },
  {
   "cell_type": "markdown",
   "metadata": {},
   "source": [
    "## Drawings"
   ]
  },
  {
   "cell_type": "code",
   "execution_count": 13,
   "metadata": {
    "collapsed": false
   },
   "outputs": [],
   "source": [
    "IMAGE_SIZE = (1000, 1000)\n",
    "\n",
    "# Prepare cairo surface\n",
    "surface = cairo.ImageSurface(cairo.FORMAT_ARGB32, IMAGE_SIZE[0], IMAGE_SIZE[1])\n",
    "cr = cairo.Context(surface)\n",
    "cr.translate(IMAGE_SIZE[0] / 2.0, IMAGE_SIZE[1] / 2.0) # centering\n",
    "wheelRadius = (1./math.sqrt(2)) * math.sqrt((IMAGE_SIZE[0] / 2.0) ** 2 + (IMAGE_SIZE[1] / 2.0) ** 2)\n",
    "cr.scale(wheelRadius, wheelRadius)\n",
    "\n",
    "# draw a single lozenge\n",
    "B = 0.\n",
    "A = cmath.rect(1, -3*math.pi/8)\n",
    "D = 2*math.cos(3*math.pi/8)\n",
    "C = cmath.rect(1, 3*math.pi/8)\n",
    "\n",
    "loz = [(0, (A, B, C, D))]\n",
    "shapes=subdivide(loz)\n",
    "shapes=subdivide(shapes)\n",
    "#shapes=subdivide(shapes)\n",
    "draw(shapes)"
   ]
  },
  {
   "cell_type": "code",
   "execution_count": 14,
   "metadata": {
    "collapsed": true
   },
   "outputs": [],
   "source": [
    "surface.write_to_png(\"A52.png\")"
   ]
  },
  {
   "cell_type": "code",
   "execution_count": 60,
   "metadata": {
    "collapsed": false
   },
   "outputs": [],
   "source": [
    "IMAGE_SIZE = (1000, 1000)\n",
    "\n",
    "# Prepare cairo surface\n",
    "surface = cairo.ImageSurface(cairo.FORMAT_ARGB32, IMAGE_SIZE[0], IMAGE_SIZE[1])\n",
    "cr = cairo.Context(surface)\n",
    "cr.translate(IMAGE_SIZE[0] / 2.0, IMAGE_SIZE[1] / 2.0) # centering\n",
    "wheelRadius = 0.5 * math.sqrt((IMAGE_SIZE[0] / 2.0) ** 2 + (IMAGE_SIZE[1] / 2.0) ** 2)\n",
    "cr.scale(wheelRadius, wheelRadius)\n",
    "\n",
    "# draw a single half-square\n",
    "B = 0.\n",
    "A = cmath.rect(1, -math.pi/4)\n",
    "C = 2*math.cos(math.pi/4)\n",
    "\n",
    "sq = [(1, (A, B, C))]\n",
    "shapes=subdivide(sq)\n",
    "shapes=subdivide(shapes)\n",
    "shapes=subdivide(shapes)\n",
    "shapes=subdivide(shapes)\n",
    "draw(shapes)"
   ]
  },
  {
   "cell_type": "code",
   "execution_count": 61,
   "metadata": {
    "collapsed": true
   },
   "outputs": [],
   "source": [
    "surface.write_to_png(\"A52.png\")"
   ]
  },
  {
   "cell_type": "code",
   "execution_count": 11,
   "metadata": {
    "collapsed": false
   },
   "outputs": [],
   "source": [
    "\"\"\" start with a square made of two half-squares \"\"\"\n",
    "\n",
    "IMAGE_SIZE = (1000, 1000)\n",
    "\n",
    "# Prepare cairo surface\n",
    "surface = cairo.ImageSurface(cairo.FORMAT_ARGB32, IMAGE_SIZE[0], IMAGE_SIZE[1])\n",
    "cr = cairo.Context(surface)\n",
    "cr.translate(IMAGE_SIZE[0] / 2.0, IMAGE_SIZE[1] / 2.0) # centering\n",
    "wheelRadius = math.sqrt((IMAGE_SIZE[0] / 2.0) ** 2 + (IMAGE_SIZE[1] / 2.0) ** 2)\n",
    "cr.scale(wheelRadius, wheelRadius)\n",
    "\n",
    "# start with a square\n",
    "square = []\n",
    "# first half-square\n",
    "C = cmath.rect(1, -math.pi/4)\n",
    "A = cmath.rect(1, -3*math.pi/4)\n",
    "B = cmath.rect(1, -5*math.pi/4)\n",
    "square.append((1, (A, B, C)))\n",
    "# second half-square\n",
    "C = cmath.rect(1, -5*math.pi/4)\n",
    "B = cmath.rect(1, -math.pi/4)\n",
    "A = cmath.rect(1, math.pi/4)\n",
    "square.append((1, (A, C, B)))\n",
    "\n",
    "it_square = square[:]\n",
    "for i in range(3):\n",
    "    it_square = subdivide(it_square)"
   ]
  },
  {
   "cell_type": "code",
   "execution_count": 12,
   "metadata": {
    "collapsed": true
   },
   "outputs": [],
   "source": [
    "draw(it_square)\n",
    "wwww"
   ]
  },
  {
   "cell_type": "code",
   "execution_count": 7,
   "metadata": {
    "collapsed": false
   },
   "outputs": [],
   "source": [
    "\"\"\" start with a wheel of lozenges, completed with half-squares to make a big square \"\"\"\n",
    "\n",
    "IMAGE_SIZE = (1600, 1600)\n",
    "\n",
    "# Prepare cairo surface\n",
    "surface = cairo.ImageSurface(cairo.FORMAT_ARGB32, IMAGE_SIZE[0], IMAGE_SIZE[1])\n",
    "cr = cairo.Context(surface)\n",
    "cr.translate(IMAGE_SIZE[0] / 2.0, IMAGE_SIZE[1] / 2.0) # centering\n",
    "wheelRadius = lb * math.sqrt((IMAGE_SIZE[0] / 2.0) ** 2 + (IMAGE_SIZE[1] / 2.0) ** 2)\n",
    "cr.scale(wheelRadius, wheelRadius)\n",
    "\n",
    "# construct the wheel\n",
    "wheel = []\n",
    "A = 0\n",
    "for i in range(8):\n",
    "    B = cmath.rect(1, (i) * math.pi / 4)\n",
    "    D = cmath.rect(1, (i + 1) * math.pi / 4)\n",
    "    C = B + D\n",
    "    wheel.append((0, (A, B, C, D)))\n",
    "    \n",
    "# half-squares\n",
    "\n",
    "for i in range(8):\n",
    "    C = cmath.rect(1, i * math.pi / 4)\n",
    "    B = (1+sq2) * C\n",
    "    A = cmath.rect(1, i * math.pi / 4) + cmath.rect(1, (i+1) * math.pi / 4)\n",
    "    wheel.append((1, (A, B, C)))\n",
    "    \n",
    "    A = cmath.rect(1, (i-1) * math.pi / 4) + cmath.rect(1, i * math.pi / 4)\n",
    "    wheel.append((1, (A, B, C)))\n",
    "\n",
    "it_wheel = wheel[:]\n",
    "for i in range(2):\n",
    "    it_wheel = subdivide(it_wheel)"
   ]
  },
  {
   "cell_type": "code",
   "execution_count": 8,
   "metadata": {
    "collapsed": false
   },
   "outputs": [],
   "source": [
    "draw(it_wheel)\n",
    "surface.write_to_png(\"ammann-beenker.png\")"
   ]
  },
  {
   "cell_type": "code",
   "execution_count": null,
   "metadata": {
    "collapsed": true
   },
   "outputs": [],
   "source": []
  }
 ],
 "metadata": {
  "kernelspec": {
   "display_name": "Python 3",
   "language": "python",
   "name": "python3"
  },
  "language_info": {
   "codemirror_mode": {
    "name": "ipython",
    "version": 3
   },
   "file_extension": ".py",
   "mimetype": "text/x-python",
   "name": "python",
   "nbconvert_exporter": "python",
   "pygments_lexer": "ipython3",
   "version": "3.5.1"
  }
 },
 "nbformat": 4,
 "nbformat_minor": 0
}
