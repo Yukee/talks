{
 "cells": [
  {
   "cell_type": "markdown",
   "metadata": {},
   "source": [
    "# Python implementation of the substitution rules for the Penrose P3 tiling\n",
    "## The substitution rules\n",
    "\n",
    "The Penrose P3 tiling is made out of two rhombi: a thin and fat one.\n",
    "Here we will work with half rhombi (triangles), as it makes use of the substitution rules easier. Thick edges mark the sides of the rhombi in the following figure.\n",
    "<img src=\"http://preshing.com/images/red-blue-triangle.png\">\n",
    "\n",
    "The substituion rules for the triangles are as follows\n",
    "<img src=\"http://preshing.com/images/red-triangle-subdivision.png\">\n",
    "<img src=\"http://preshing.com/images/blue-triangle-subdivision.png\">\n",
    "The new points $P$, $Q$ and $R$ separates the edges of the triangles into two parts whose ratio of lengthes is the golden ratio:\n",
    "$$\n",
    " P = A + (B-A)\\omega\n",
    "$$\n",
    "and\n",
    "$$\n",
    " Q = B + (A-B)\\omega \\\\\n",
    " R = B + (C-B)\\omega\n",
    "$$\n",
    "where $\\omega = (\\sqrt{5}-1)/2$, the inverse of the golden ratio."
   ]
  },
  {
   "cell_type": "code",
   "execution_count": 9,
   "metadata": {
    "collapsed": false
   },
   "outputs": [],
   "source": [
    "import cairo\n",
    "import math, cmath"
   ]
  },
  {
   "cell_type": "markdown",
   "metadata": {},
   "source": [
    "We shall describe a triangle by a color, and the data of its 3 vertices: (color, A, B, C).\n",
    "With that in mind, we can easily implement the substition rules:"
   ]
  },
  {
   "cell_type": "code",
   "execution_count": 10,
   "metadata": {
    "collapsed": false
   },
   "outputs": [],
   "source": [
    "om = (math.sqrt(5) - 1.) / 2.\n",
    "\n",
    "def subdivide(triangles):\n",
    "    result = []\n",
    "    for color, A, B, C in triangles:\n",
    "        if color == 0:\n",
    "            # Subdivide red triangle\n",
    "            P = A + (B - A)*om\n",
    "            result += [(0, C, P, B), (1, P, C, A)]\n",
    "        else:\n",
    "            # Subdivide blue triangle\n",
    "            Q = B + (A - B)*om\n",
    "            R = B + (C - B)*om\n",
    "            result += [(1, R, C, A), (1, Q, R, B), (0, R, Q, A)]\n",
    "    return result"
   ]
  },
  {
   "cell_type": "code",
   "execution_count": 11,
   "metadata": {
    "collapsed": true
   },
   "outputs": [],
   "source": [
    "lightred = (0.697, 0.425, 0.333)\n",
    "lightblue = (0.333, 0.605, 0.697)\n",
    "blue = (0., 0.4078, 0.5451)\n",
    "red = (0.5451, 0.1373, 0.)\n",
    "\n",
    "def draw(triangles):\n",
    "    # Draw red triangles\n",
    "    for color, A, B, C in triangles:\n",
    "        if color == 0:\n",
    "            cr.move_to(A.real, A.imag)\n",
    "            cr.line_to(B.real, B.imag)\n",
    "            cr.line_to(C.real, C.imag)\n",
    "            cr.close_path()\n",
    "    cr.set_source_rgb(0.697, 0.425, 0.333)\n",
    "    cr.fill()    \n",
    "\n",
    "    # Draw blue triangles\n",
    "    for color, A, B, C in triangles:\n",
    "        if color == 1:\n",
    "            cr.move_to(A.real, A.imag)\n",
    "            cr.line_to(B.real, B.imag)\n",
    "            cr.line_to(C.real, C.imag)\n",
    "            cr.close_path()\n",
    "    cr.set_source_rgb(0., 0.4078, 0.5451)\n",
    "    cr.fill()\n",
    "\n",
    "    # Determine line width from size of first triangle\n",
    "    color, A, B, C = triangles[0]\n",
    "    cr.set_line_width(abs(B - A) / 10.0)\n",
    "    cr.set_line_join(cairo.LINE_JOIN_ROUND)\n",
    "\n",
    "    # Draw outlines\n",
    "    for color, A, B, C in triangles:\n",
    "        cr.move_to(C.real, C.imag)\n",
    "        cr.line_to(A.real, A.imag)\n",
    "        cr.line_to(B.real, B.imag)\n",
    "        \n",
    "    # set bg color\n",
    "    cr.set_source_rgb(0.2, 0.2, 0.2)\n",
    "    # commit to surface\n",
    "    cr.stroke()"
   ]
  },
  {
   "cell_type": "code",
   "execution_count": 12,
   "metadata": {
    "collapsed": false
   },
   "outputs": [],
   "source": [
    "# Create wheel of red triangles around the origin\n",
    "triangles = []\n",
    "for i in range(10):\n",
    "    B = cmath.rect(1, (2*i - 1) * math.pi / 10)\n",
    "    C = cmath.rect(1, (2*i + 1) * math.pi / 10)\n",
    "    if i % 2 == 0:\n",
    "        B, C = C, B  # Make sure to mirror every second triangle\n",
    "    triangles.append((0, 0j, B, C))"
   ]
  },
  {
   "cell_type": "code",
   "execution_count": 13,
   "metadata": {
    "collapsed": false
   },
   "outputs": [],
   "source": [
    "\"\"\" inside picture \"\"\"\n",
    "\n",
    "IMAGE_SIZE = (1600, 1600)\n",
    "\n",
    "# Prepare cairo surface\n",
    "surface = cairo.ImageSurface(cairo.FORMAT_ARGB32, IMAGE_SIZE[0], IMAGE_SIZE[1])\n",
    "cr = cairo.Context(surface)\n",
    "cr.translate(IMAGE_SIZE[0] / 2.0, IMAGE_SIZE[1] / 2.0) # centering\n",
    "wheelRadius = 2.*((1./math.sqrt(2)) * math.sqrt((IMAGE_SIZE[0] / 2.0) ** 2 + (IMAGE_SIZE[1] / 2.0) ** 2))\n",
    "cr.scale(wheelRadius, wheelRadius)\n",
    "\n",
    "it_triangles = triangles\n",
    "for i in range(6):\n",
    "    it_triangles = subdivide(it_triangles)\n",
    "\n",
    "draw(it_triangles)\n",
    "\n",
    "surface.write_to_png(\"penrose.png\")"
   ]
  },
  {
   "cell_type": "code",
   "execution_count": 7,
   "metadata": {
    "collapsed": true
   },
   "outputs": [],
   "source": [
    "\"\"\" cover image \"\"\"\n",
    "IMAGE_SIZE = (1600, 900)\n",
    "\n",
    "# Prepare cairo surface\n",
    "surface = cairo.ImageSurface(cairo.FORMAT_ARGB32, IMAGE_SIZE[0], IMAGE_SIZE[1])\n",
    "cr = cairo.Context(surface)\n",
    "cr.translate(IMAGE_SIZE[0] / 2.0, IMAGE_SIZE[1] / 2.0) # centering\n",
    "wheelRadius = 2.*((1./math.sqrt(2)) * math.sqrt((IMAGE_SIZE[0] / 2.0) ** 2 + (IMAGE_SIZE[1] / 2.0) ** 2))\n",
    "cr.scale(wheelRadius, wheelRadius)"
   ]
  },
  {
   "cell_type": "code",
   "execution_count": 8,
   "metadata": {
    "collapsed": true
   },
   "outputs": [],
   "source": [
    "it_triangles = triangles\n",
    "for i in range(6):\n",
    "    it_triangles = subdivide(it_triangles)\n",
    "\n",
    "draw(it_triangles)\n",
    "\n",
    "surface.write_to_png(\"cover.png\")"
   ]
  },
  {
   "cell_type": "code",
   "execution_count": null,
   "metadata": {
    "collapsed": true
   },
   "outputs": [],
   "source": []
  }
 ],
 "metadata": {
  "kernelspec": {
   "display_name": "Python 3",
   "language": "python",
   "name": "python3"
  },
  "language_info": {
   "codemirror_mode": {
    "name": "ipython",
    "version": 3
   },
   "file_extension": ".py",
   "mimetype": "text/x-python",
   "name": "python",
   "nbconvert_exporter": "python",
   "pygments_lexer": "ipython3",
   "version": "3.5.1"
  }
 },
 "nbformat": 4,
 "nbformat_minor": 0
}
