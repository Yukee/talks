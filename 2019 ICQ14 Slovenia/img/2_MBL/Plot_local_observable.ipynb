{
 "cells": [
  {
   "cell_type": "code",
   "execution_count": 1,
   "metadata": {},
   "outputs": [],
   "source": [
    "import numpy as np\n",
    "import pandas as pd\n",
    "import matplotlib.pyplot as plt\n",
    "from os import walk, getcwd"
   ]
  },
  {
   "cell_type": "code",
   "execution_count": 2,
   "metadata": {},
   "outputs": [],
   "source": [
    "def get_obs(L, arch, Delta, h, seed):#, entang_spec = False, cutoff = 1e-5):\n",
    "    # single precision\n",
    "    precision=\"single\"\n",
    "    # entropy\n",
    "    filename = gen_filename(\"ENT\", L, arch, precision, Delta, h, seed)\n",
    "    ents = np.loadtxt(wdir + filename)\n",
    "    # local observables\n",
    "    filename = gen_filename(\"LocalObservable\", L, arch, precision, Delta, h, seed)\n",
    "    pos, obss = np.loadtxt(wdir + filename, unpack=True) # first array is the list of spin indices\n",
    "    obss = obss.reshape((-1, int(L))).T # obss[i] = list of local observables for the ith spin index\n",
    "    # energies\n",
    "    filename = gen_filename(\"Energies\", L, arch, precision, Delta, h, seed)\n",
    "    es = np.loadtxt(wdir + filename)\n",
    "    o_s = np.argsort(es)\n",
    "#     # entanglement spectrum\n",
    "#     if entang_spec:\n",
    "#         filename = gen_filename(\"EntSpec\", L, arch, precision, Delta, h, seed)\n",
    "#         spec_s = np.loadtxt(wdir + filename, unpack=False)\n",
    "#         ents_from_spec_s = np.array([S(spec, cutoff) for spec in spec_s])\n",
    "        \n",
    "    # double precision\n",
    "    precision=\"double\"\n",
    "    # entropy\n",
    "    filename = gen_filename(\"ENT\", L, arch, precision, Delta, h, seed)\n",
    "    entd = np.loadtxt(wdir + filename)\n",
    "    # local observables\n",
    "    filename = gen_filename(\"LocalObservable\", L, arch, precision, Delta, h, seed)\n",
    "    pos, obsd = np.loadtxt(wdir + filename, unpack=True) # first array is the list of spin indices\n",
    "    obsd = obsd.reshape((-1, int(L))).T # obss[i] = list of local observables for the ith spin index\n",
    "    # energies\n",
    "    filename = gen_filename(\"Energies\", L, arch, precision, Delta, h, seed)\n",
    "    ed = np.loadtxt(wdir + filename)\n",
    "    o_d = np.argsort(ed)\n",
    "\n",
    "    # get the overlaps\n",
    "    (r1, r2, rr1, rr2), QF = intersection(es[o_s], ed[o_d])\n",
    "    print(QF)\n",
    "    \n",
    "    obss = [cur_obs[o_s][r1] for cur_obs in obss]\n",
    "    obsd = [cur_obs[o_d][r2] for cur_obs in obsd]\n",
    "#     # if we loaded the entanglement spectrum\n",
    "#     if entang_spec:\n",
    "#         ents = ents_from_spec_s[:]\n",
    "    return (es[o_s][r1], ed[o_d][r2]), (ents[o_s][r1], entd[o_d][r2]), (obss, obsd)"
   ]
  },
  {
   "cell_type": "code",
   "execution_count": 9,
   "metadata": {},
   "outputs": [],
   "source": [
    "def gen_filename(obs, L, arch, precision, Delta, h, seed):\n",
    "    return obs+\".L={:s}.SzTotal=0.arch=eos-{:s}-{:s}.Delta={:s}.h={:s}.pbc.seed={:s}.target0.5.dat\".format(L, arch, precision, Delta, h, seed)\n",
    "\n",
    "def intersection(e1, e2):\n",
    "    \"\"\"\n",
    "    Find the translation of the list e1 and e2 making their data match\n",
    "    Return: (r1, r2, rr1, rr2), QF\n",
    "    r1 and r2 are such that e1[r1] and e2[r2] are correctly aligned lists (keeping only the matching data)\n",
    "    rr1 and rr2 are such that (rr1, e1) and (rr2, e2) are correctly aligned (keeping all the data)\n",
    "    QF estimates the match quality: QF = min(level spacing)/max(mismatch)\n",
    "    \"\"\"\n",
    "    # D[i][j] = e1[i] - e2[j]\n",
    "    D = np.abs(e1[:,None] - e2)\n",
    "    # find i1 i2 such that e1[i1]-e2[i2] is minimal\n",
    "    i1, i2 = np.unravel_index(np.argmin(D), D.shape)\n",
    "    # lowest index of the matching data\n",
    "    imin1 = max(0, i1-i2)\n",
    "    imin2 = max(0, i2-i1)\n",
    "    e1t = e1[imin1:]\n",
    "    e2t = e2[imin2:]\n",
    "    # highest index of the matching data\n",
    "    imax = min(len(e1t), len(e2t))\n",
    "    e1t = e1t[:imax]\n",
    "    e2t = e2t[:imax]\n",
    "    \n",
    "    # average of the min level spacing\n",
    "    ls1 = np.min((np.sort(e1t) - np.roll(np.sort(e1t),1))[1:])\n",
    "    ls2 = np.min((np.sort(e2t) - np.roll(np.sort(e2t),1))[1:])\n",
    "    ls = 0.5*(ls1 + ls2)\n",
    "#     print(\"min level spacing = \", ls)\n",
    "    # maximum mismatch\n",
    "    mm = np.max(np.abs(e1t - e2t))\n",
    "#     print(\"max mismatch = \", mm)\n",
    "    QF = ls/mm\n",
    "    \n",
    "    return [range(imin1, imax+imin1), range(imin2, imax+imin2), range(0, len(e1)), range(imin1-imin2, len(e2)+imin1-imin2)], QF"
   ]
  },
  {
   "cell_type": "code",
   "execution_count": 29,
   "metadata": {},
   "outputs": [
    {
     "name": "stdout",
     "output_type": "stream",
     "text": [
      "0.4852830636786459\n",
      "1.5396298311561685\n"
     ]
    },
    {
     "data": {
      "image/png": "[encoded data removed]",
      "text/plain": [
       "<Figure size 432x288 with 1 Axes>"
      ]
     },
     "metadata": {
      "needs_background": "light"
     },
     "output_type": "display_data"
    }
   ],
   "source": [
    "L = '22'\n",
    "arch = 'strumpack'\n",
    "Delta = '1'\n",
    "\n",
    "BostonBlue = [0.2306, 0.5312, 0.6797]\n",
    "Tuscany = [0.6797, 0.3789, 0.2305]\n",
    "\n",
    "with plt.style.context(['article-twocolumns']):\n",
    "    f, ax  = plt.subplots(1)\n",
    "\n",
    "    h = '1'\n",
    "    wdir = \"/home/nicolas/data/SI-paper/data_strum_22/\"\n",
    "\n",
    "    seed = \"445245\"\n",
    "    i = 10\n",
    "    (Es, Ed), (Ss, Sd), (Os, Od) = get_obs(L, arch, Delta, h, seed)\n",
    "    p1 = ax.plot(Od[i] + 0.5, '+', markersize=10, color=Tuscany, label = 'ETH ($h=1$)')\n",
    "    #p2 = ax.plot(Od[i], '+')\n",
    "    meanSTh = 0.5*(np.mean(Ss) + np.mean(Ss))\n",
    "\n",
    "    h = '100'\n",
    "    (Es, Ed), (Ss, Sd), (Os, Od) = get_obs(L, arch, Delta, h, seed)\n",
    "    ax.plot(Od[i] + 0.5, 'o', label=\"MBL ($h=100$)\", markerfacecolor='none', color=BostonBlue)\n",
    "    #ax.plot(Od[i], '+')\n",
    "\n",
    "    #legend_elements = [Line2D([], [], marker='s', markerfacecolor='none', markeredgecolor='black', label='ETH ($h=1$)', color='w'),\n",
    "    #                   Line2D([0], [0], marker='+', label='double', color='white', markeredgecolor='black')]\n",
    "    #ax.legend(handles=legend_elements, loc=1, bbox_to_anchor=(0., 0.8, 0.99, .102))\n",
    "\n",
    "    plt.xlabel(\"eigenstate\")\n",
    "    plt.legend(loc=1, bbox_to_anchor=(0., 0.8, 0.99, .102))\n",
    "    ax.set_ylabel(r\"$\\langle n_i \\rangle$\")\n",
    "    ax.set_yticks([0, 0.5, 1])\n",
    "    plt.savefig('local_observable.pdf')\n",
    "    plt.show()"
   ]
  },
  {
   "cell_type": "code",
   "execution_count": null,
   "metadata": {},
   "outputs": [],
   "source": []
  }
 ],
 "metadata": {
  "kernelspec": {
   "display_name": "Python 3",
   "language": "python",
   "name": "python3"
  },
  "language_info": {
   "codemirror_mode": {
    "name": "ipython",
    "version": 3
   },
   "file_extension": ".py",
   "mimetype": "text/x-python",
   "name": "python",
   "nbconvert_exporter": "python",
   "pygments_lexer": "ipython3",
   "version": "3.7.3"
  }
 },
 "nbformat": 4,
 "nbformat_minor": 2
}
